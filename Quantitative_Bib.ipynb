{
 "cells": [
  {
   "cell_type": "code",
   "execution_count": 87,
   "metadata": {},
   "outputs": [],
   "source": [
    "import pandas as pd\n",
    "from pyzotero import zotero\n",
    "from habanero import Crossref\n",
    "import habanero as hb\n",
    "import matplotlib.pyplot as plt\n",
    "import seaborn as sns\n"
   ]
  },
  {
   "cell_type": "code",
   "execution_count": 88,
   "metadata": {},
   "outputs": [],
   "source": [
    "zot = zotero.Zotero(2419050, 'group', 'g0wIgs8ovYoLF0oLtFXvqT9a')\n",
    "cr = Crossref()\n",
    "our_coll = 'SocialRobotEdu'\n",
    "our_coll_key = 'X6PKYLT6'"
   ]
  },
  {
   "cell_type": "code",
   "execution_count": 89,
   "metadata": {},
   "outputs": [],
   "source": [
    "# fetch the zotero collection\n",
    "subColl = zot.collections_sub(our_coll_key)"
   ]
  },
  {
   "cell_type": "code",
   "execution_count": 90,
   "metadata": {},
   "outputs": [
    {
     "data": {
      "text/html": [
       "<div>\n",
       "<style scoped>\n",
       "    .dataframe tbody tr th:only-of-type {\n",
       "        vertical-align: middle;\n",
       "    }\n",
       "\n",
       "    .dataframe tbody tr th {\n",
       "        vertical-align: top;\n",
       "    }\n",
       "\n",
       "    .dataframe thead th {\n",
       "        text-align: right;\n",
       "    }\n",
       "</style>\n",
       "<table border=\"1\" class=\"dataframe\">\n",
       "  <thead>\n",
       "    <tr style=\"text-align: right;\">\n",
       "      <th></th>\n",
       "      <th>DOI</th>\n",
       "      <th>ISBN</th>\n",
       "      <th>abstractNote</th>\n",
       "      <th>accessDate</th>\n",
       "      <th>archive</th>\n",
       "      <th>archiveLocation</th>\n",
       "      <th>callNumber</th>\n",
       "      <th>collections</th>\n",
       "      <th>conferenceName</th>\n",
       "      <th>creators</th>\n",
       "      <th>...</th>\n",
       "      <th>numPages</th>\n",
       "      <th>note</th>\n",
       "      <th>parentItem</th>\n",
       "      <th>websiteTitle</th>\n",
       "      <th>websiteType</th>\n",
       "      <th>meetingName</th>\n",
       "      <th>presentationType</th>\n",
       "      <th>charset</th>\n",
       "      <th>contentType</th>\n",
       "      <th>linkMode</th>\n",
       "    </tr>\n",
       "  </thead>\n",
       "  <tbody>\n",
       "    <tr>\n",
       "      <th>0</th>\n",
       "      <td>10.1145/3319502.3374822</td>\n",
       "      <td>978-1-4503-6746-2</td>\n",
       "      <td>Prior work in affect-aware educational robots ...</td>\n",
       "      <td>2020-03-16</td>\n",
       "      <td></td>\n",
       "      <td></td>\n",
       "      <td></td>\n",
       "      <td>[E9ILFJBI, EX8YK5GV]</td>\n",
       "      <td></td>\n",
       "      <td>[{'creatorType': 'author', 'firstName': 'Huili...</td>\n",
       "      <td>...</td>\n",
       "      <td>NaN</td>\n",
       "      <td>NaN</td>\n",
       "      <td>NaN</td>\n",
       "      <td>NaN</td>\n",
       "      <td>NaN</td>\n",
       "      <td>NaN</td>\n",
       "      <td>NaN</td>\n",
       "      <td>NaN</td>\n",
       "      <td>NaN</td>\n",
       "      <td>NaN</td>\n",
       "    </tr>\n",
       "    <tr>\n",
       "      <th>1</th>\n",
       "      <td>10.1145/3319502.3374803</td>\n",
       "      <td>978-1-4503-6746-2</td>\n",
       "      <td>Interactive learning technologies, such as rob...</td>\n",
       "      <td>2020-03-16</td>\n",
       "      <td></td>\n",
       "      <td></td>\n",
       "      <td></td>\n",
       "      <td>[E9ILFJBI, EX8YK5GV]</td>\n",
       "      <td></td>\n",
       "      <td>[{'creatorType': 'author', 'firstName': 'Danie...</td>\n",
       "      <td>...</td>\n",
       "      <td>NaN</td>\n",
       "      <td>NaN</td>\n",
       "      <td>NaN</td>\n",
       "      <td>NaN</td>\n",
       "      <td>NaN</td>\n",
       "      <td>NaN</td>\n",
       "      <td>NaN</td>\n",
       "      <td>NaN</td>\n",
       "      <td>NaN</td>\n",
       "      <td>NaN</td>\n",
       "    </tr>\n",
       "    <tr>\n",
       "      <th>2</th>\n",
       "      <td>10.1145/3319502.3374828</td>\n",
       "      <td>978-1-4503-6746-2</td>\n",
       "      <td>This study presents a second language word lea...</td>\n",
       "      <td>2020-03-16</td>\n",
       "      <td></td>\n",
       "      <td></td>\n",
       "      <td></td>\n",
       "      <td>[E9ILFJBI, EX8YK5GV]</td>\n",
       "      <td></td>\n",
       "      <td>[{'creatorType': 'author', 'firstName': 'Peggy...</td>\n",
       "      <td>...</td>\n",
       "      <td>NaN</td>\n",
       "      <td>NaN</td>\n",
       "      <td>NaN</td>\n",
       "      <td>NaN</td>\n",
       "      <td>NaN</td>\n",
       "      <td>NaN</td>\n",
       "      <td>NaN</td>\n",
       "      <td>NaN</td>\n",
       "      <td>NaN</td>\n",
       "      <td>NaN</td>\n",
       "    </tr>\n",
       "    <tr>\n",
       "      <th>3</th>\n",
       "      <td>10.20965/jaciii.2020.p0101</td>\n",
       "      <td>NaN</td>\n",
       "      <td>In recent years, educational support robots th...</td>\n",
       "      <td></td>\n",
       "      <td></td>\n",
       "      <td></td>\n",
       "      <td></td>\n",
       "      <td>[E9ILFJBI, EX8YK5GV]</td>\n",
       "      <td>NaN</td>\n",
       "      <td>[{'creatorType': 'author', 'firstName': 'Kenya...</td>\n",
       "      <td>...</td>\n",
       "      <td>NaN</td>\n",
       "      <td>NaN</td>\n",
       "      <td>NaN</td>\n",
       "      <td>NaN</td>\n",
       "      <td>NaN</td>\n",
       "      <td>NaN</td>\n",
       "      <td>NaN</td>\n",
       "      <td>NaN</td>\n",
       "      <td>NaN</td>\n",
       "      <td>NaN</td>\n",
       "    </tr>\n",
       "    <tr>\n",
       "      <th>4</th>\n",
       "      <td>10.1080/10494820.2019.1710542</td>\n",
       "      <td>NaN</td>\n",
       "      <td>In this research, robot training was conducted...</td>\n",
       "      <td>2020-03-17T22:16:22Z</td>\n",
       "      <td></td>\n",
       "      <td></td>\n",
       "      <td></td>\n",
       "      <td>[E9ILFJBI, EX8YK5GV]</td>\n",
       "      <td>NaN</td>\n",
       "      <td>[{'creatorType': 'author', 'firstName': 'Tuğra...</td>\n",
       "      <td>...</td>\n",
       "      <td>NaN</td>\n",
       "      <td>NaN</td>\n",
       "      <td>NaN</td>\n",
       "      <td>NaN</td>\n",
       "      <td>NaN</td>\n",
       "      <td>NaN</td>\n",
       "      <td>NaN</td>\n",
       "      <td>NaN</td>\n",
       "      <td>NaN</td>\n",
       "      <td>NaN</td>\n",
       "    </tr>\n",
       "  </tbody>\n",
       "</table>\n",
       "<p>5 rows × 52 columns</p>\n",
       "</div>"
      ],
      "text/plain": [
       "                             DOI               ISBN  \\\n",
       "0        10.1145/3319502.3374822  978-1-4503-6746-2   \n",
       "1        10.1145/3319502.3374803  978-1-4503-6746-2   \n",
       "2        10.1145/3319502.3374828  978-1-4503-6746-2   \n",
       "3     10.20965/jaciii.2020.p0101                NaN   \n",
       "4  10.1080/10494820.2019.1710542                NaN   \n",
       "\n",
       "                                        abstractNote            accessDate  \\\n",
       "0  Prior work in affect-aware educational robots ...            2020-03-16   \n",
       "1  Interactive learning technologies, such as rob...            2020-03-16   \n",
       "2  This study presents a second language word lea...            2020-03-16   \n",
       "3  In recent years, educational support robots th...                         \n",
       "4  In this research, robot training was conducted...  2020-03-17T22:16:22Z   \n",
       "\n",
       "  archive archiveLocation callNumber           collections conferenceName  \\\n",
       "0                                     [E9ILFJBI, EX8YK5GV]                  \n",
       "1                                     [E9ILFJBI, EX8YK5GV]                  \n",
       "2                                     [E9ILFJBI, EX8YK5GV]                  \n",
       "3                                     [E9ILFJBI, EX8YK5GV]            NaN   \n",
       "4                                     [E9ILFJBI, EX8YK5GV]            NaN   \n",
       "\n",
       "                                            creators  ... numPages note  \\\n",
       "0  [{'creatorType': 'author', 'firstName': 'Huili...  ...      NaN  NaN   \n",
       "1  [{'creatorType': 'author', 'firstName': 'Danie...  ...      NaN  NaN   \n",
       "2  [{'creatorType': 'author', 'firstName': 'Peggy...  ...      NaN  NaN   \n",
       "3  [{'creatorType': 'author', 'firstName': 'Kenya...  ...      NaN  NaN   \n",
       "4  [{'creatorType': 'author', 'firstName': 'Tuğra...  ...      NaN  NaN   \n",
       "\n",
       "  parentItem websiteTitle websiteType meetingName presentationType charset  \\\n",
       "0        NaN          NaN         NaN         NaN              NaN     NaN   \n",
       "1        NaN          NaN         NaN         NaN              NaN     NaN   \n",
       "2        NaN          NaN         NaN         NaN              NaN     NaN   \n",
       "3        NaN          NaN         NaN         NaN              NaN     NaN   \n",
       "4        NaN          NaN         NaN         NaN              NaN     NaN   \n",
       "\n",
       "  contentType linkMode  \n",
       "0         NaN      NaN  \n",
       "1         NaN      NaN  \n",
       "2         NaN      NaN  \n",
       "3         NaN      NaN  \n",
       "4         NaN      NaN  \n",
       "\n",
       "[5 rows x 52 columns]"
      ]
     },
     "execution_count": 90,
     "metadata": {},
     "output_type": "execute_result"
    }
   ],
   "source": [
    "# parse all the items of the collection into a dataframe\n",
    "df = pd.DataFrame()\n",
    "for sc in subColl:\n",
    "    items = zot.collection_items(sc['key'])\n",
    "    for i in range(len(items)):\n",
    "        data = items[i]['data']\n",
    "        data.update({'wtype':sc['data']['name']})\n",
    "        df = df.append(data, ignore_index=True)    \n",
    "df.head()"
   ]
  },
  {
   "cell_type": "code",
   "execution_count": 91,
   "metadata": {},
   "outputs": [
    {
     "data": {
      "text/html": [
       "<div>\n",
       "<style scoped>\n",
       "    .dataframe tbody tr th:only-of-type {\n",
       "        vertical-align: middle;\n",
       "    }\n",
       "\n",
       "    .dataframe tbody tr th {\n",
       "        vertical-align: top;\n",
       "    }\n",
       "\n",
       "    .dataframe thead th {\n",
       "        text-align: right;\n",
       "    }\n",
       "</style>\n",
       "<table border=\"1\" class=\"dataframe\">\n",
       "  <thead>\n",
       "    <tr style=\"text-align: right;\">\n",
       "      <th></th>\n",
       "      <th>DOI</th>\n",
       "      <th>ISBN</th>\n",
       "      <th>abstractNote</th>\n",
       "      <th>accessDate</th>\n",
       "      <th>archive</th>\n",
       "      <th>archiveLocation</th>\n",
       "      <th>callNumber</th>\n",
       "      <th>collections</th>\n",
       "      <th>conferenceName</th>\n",
       "      <th>creators</th>\n",
       "      <th>...</th>\n",
       "      <th>numPages</th>\n",
       "      <th>note</th>\n",
       "      <th>parentItem</th>\n",
       "      <th>websiteTitle</th>\n",
       "      <th>websiteType</th>\n",
       "      <th>meetingName</th>\n",
       "      <th>presentationType</th>\n",
       "      <th>charset</th>\n",
       "      <th>contentType</th>\n",
       "      <th>linkMode</th>\n",
       "    </tr>\n",
       "  </thead>\n",
       "  <tbody>\n",
       "    <tr>\n",
       "      <th>0</th>\n",
       "      <td>10.1145/3319502.3374822</td>\n",
       "      <td>978-1-4503-6746-2</td>\n",
       "      <td>Prior work in affect-aware educational robots ...</td>\n",
       "      <td>2020-03-16</td>\n",
       "      <td></td>\n",
       "      <td></td>\n",
       "      <td></td>\n",
       "      <td>[E9ILFJBI, EX8YK5GV]</td>\n",
       "      <td></td>\n",
       "      <td>[{'creatorType': 'author', 'firstName': 'Huili...</td>\n",
       "      <td>...</td>\n",
       "      <td>NaN</td>\n",
       "      <td>NaN</td>\n",
       "      <td>NaN</td>\n",
       "      <td>NaN</td>\n",
       "      <td>NaN</td>\n",
       "      <td>NaN</td>\n",
       "      <td>NaN</td>\n",
       "      <td>NaN</td>\n",
       "      <td>NaN</td>\n",
       "      <td>NaN</td>\n",
       "    </tr>\n",
       "    <tr>\n",
       "      <th>1</th>\n",
       "      <td>10.1145/3319502.3374803</td>\n",
       "      <td>978-1-4503-6746-2</td>\n",
       "      <td>Interactive learning technologies, such as rob...</td>\n",
       "      <td>2020-03-16</td>\n",
       "      <td></td>\n",
       "      <td></td>\n",
       "      <td></td>\n",
       "      <td>[E9ILFJBI, EX8YK5GV]</td>\n",
       "      <td></td>\n",
       "      <td>[{'creatorType': 'author', 'firstName': 'Danie...</td>\n",
       "      <td>...</td>\n",
       "      <td>NaN</td>\n",
       "      <td>NaN</td>\n",
       "      <td>NaN</td>\n",
       "      <td>NaN</td>\n",
       "      <td>NaN</td>\n",
       "      <td>NaN</td>\n",
       "      <td>NaN</td>\n",
       "      <td>NaN</td>\n",
       "      <td>NaN</td>\n",
       "      <td>NaN</td>\n",
       "    </tr>\n",
       "    <tr>\n",
       "      <th>2</th>\n",
       "      <td>10.1145/3319502.3374828</td>\n",
       "      <td>978-1-4503-6746-2</td>\n",
       "      <td>This study presents a second language word lea...</td>\n",
       "      <td>2020-03-16</td>\n",
       "      <td></td>\n",
       "      <td></td>\n",
       "      <td></td>\n",
       "      <td>[E9ILFJBI, EX8YK5GV]</td>\n",
       "      <td></td>\n",
       "      <td>[{'creatorType': 'author', 'firstName': 'Peggy...</td>\n",
       "      <td>...</td>\n",
       "      <td>NaN</td>\n",
       "      <td>NaN</td>\n",
       "      <td>NaN</td>\n",
       "      <td>NaN</td>\n",
       "      <td>NaN</td>\n",
       "      <td>NaN</td>\n",
       "      <td>NaN</td>\n",
       "      <td>NaN</td>\n",
       "      <td>NaN</td>\n",
       "      <td>NaN</td>\n",
       "    </tr>\n",
       "    <tr>\n",
       "      <th>3</th>\n",
       "      <td>10.20965/jaciii.2020.p0101</td>\n",
       "      <td>NaN</td>\n",
       "      <td>In recent years, educational support robots th...</td>\n",
       "      <td></td>\n",
       "      <td></td>\n",
       "      <td></td>\n",
       "      <td></td>\n",
       "      <td>[E9ILFJBI, EX8YK5GV]</td>\n",
       "      <td>NaN</td>\n",
       "      <td>[{'creatorType': 'author', 'firstName': 'Kenya...</td>\n",
       "      <td>...</td>\n",
       "      <td>NaN</td>\n",
       "      <td>NaN</td>\n",
       "      <td>NaN</td>\n",
       "      <td>NaN</td>\n",
       "      <td>NaN</td>\n",
       "      <td>NaN</td>\n",
       "      <td>NaN</td>\n",
       "      <td>NaN</td>\n",
       "      <td>NaN</td>\n",
       "      <td>NaN</td>\n",
       "    </tr>\n",
       "    <tr>\n",
       "      <th>4</th>\n",
       "      <td>10.1080/10494820.2019.1710542</td>\n",
       "      <td>NaN</td>\n",
       "      <td>In this research, robot training was conducted...</td>\n",
       "      <td>2020-03-17T22:16:22Z</td>\n",
       "      <td></td>\n",
       "      <td></td>\n",
       "      <td></td>\n",
       "      <td>[E9ILFJBI, EX8YK5GV]</td>\n",
       "      <td>NaN</td>\n",
       "      <td>[{'creatorType': 'author', 'firstName': 'Tuğra...</td>\n",
       "      <td>...</td>\n",
       "      <td>NaN</td>\n",
       "      <td>NaN</td>\n",
       "      <td>NaN</td>\n",
       "      <td>NaN</td>\n",
       "      <td>NaN</td>\n",
       "      <td>NaN</td>\n",
       "      <td>NaN</td>\n",
       "      <td>NaN</td>\n",
       "      <td>NaN</td>\n",
       "      <td>NaN</td>\n",
       "    </tr>\n",
       "  </tbody>\n",
       "</table>\n",
       "<p>5 rows × 52 columns</p>\n",
       "</div>"
      ],
      "text/plain": [
       "                             DOI               ISBN  \\\n",
       "0        10.1145/3319502.3374822  978-1-4503-6746-2   \n",
       "1        10.1145/3319502.3374803  978-1-4503-6746-2   \n",
       "2        10.1145/3319502.3374828  978-1-4503-6746-2   \n",
       "3     10.20965/jaciii.2020.p0101                NaN   \n",
       "4  10.1080/10494820.2019.1710542                NaN   \n",
       "\n",
       "                                        abstractNote            accessDate  \\\n",
       "0  Prior work in affect-aware educational robots ...            2020-03-16   \n",
       "1  Interactive learning technologies, such as rob...            2020-03-16   \n",
       "2  This study presents a second language word lea...            2020-03-16   \n",
       "3  In recent years, educational support robots th...                         \n",
       "4  In this research, robot training was conducted...  2020-03-17T22:16:22Z   \n",
       "\n",
       "  archive archiveLocation callNumber           collections conferenceName  \\\n",
       "0                                     [E9ILFJBI, EX8YK5GV]                  \n",
       "1                                     [E9ILFJBI, EX8YK5GV]                  \n",
       "2                                     [E9ILFJBI, EX8YK5GV]                  \n",
       "3                                     [E9ILFJBI, EX8YK5GV]            NaN   \n",
       "4                                     [E9ILFJBI, EX8YK5GV]            NaN   \n",
       "\n",
       "                                            creators  ... numPages note  \\\n",
       "0  [{'creatorType': 'author', 'firstName': 'Huili...  ...      NaN  NaN   \n",
       "1  [{'creatorType': 'author', 'firstName': 'Danie...  ...      NaN  NaN   \n",
       "2  [{'creatorType': 'author', 'firstName': 'Peggy...  ...      NaN  NaN   \n",
       "3  [{'creatorType': 'author', 'firstName': 'Kenya...  ...      NaN  NaN   \n",
       "4  [{'creatorType': 'author', 'firstName': 'Tuğra...  ...      NaN  NaN   \n",
       "\n",
       "  parentItem websiteTitle websiteType meetingName presentationType charset  \\\n",
       "0        NaN          NaN         NaN         NaN              NaN     NaN   \n",
       "1        NaN          NaN         NaN         NaN              NaN     NaN   \n",
       "2        NaN          NaN         NaN         NaN              NaN     NaN   \n",
       "3        NaN          NaN         NaN         NaN              NaN     NaN   \n",
       "4        NaN          NaN         NaN         NaN              NaN     NaN   \n",
       "\n",
       "  contentType linkMode  \n",
       "0         NaN      NaN  \n",
       "1         NaN      NaN  \n",
       "2         NaN      NaN  \n",
       "3         NaN      NaN  \n",
       "4         NaN      NaN  \n",
       "\n",
       "[5 rows x 52 columns]"
      ]
     },
     "execution_count": 91,
     "metadata": {},
     "output_type": "execute_result"
    }
   ],
   "source": [
    "# Remove subfolder containing other review papers\n",
    "df = df[df.wtype != 'Other_Related_Reviews']\n",
    "df.head()"
   ]
  },
  {
   "cell_type": "code",
   "execution_count": 92,
   "metadata": {},
   "outputs": [
    {
     "data": {
      "text/plain": [
       "Index(['DOI', 'ISBN', 'abstractNote', 'accessDate', 'archive',\n",
       "       'archiveLocation', 'callNumber', 'collections', 'conferenceName',\n",
       "       'creators', 'date', 'dateAdded', 'dateModified', 'extra', 'itemType',\n",
       "       'key', 'language', 'libraryCatalog', 'pages', 'place',\n",
       "       'proceedingsTitle', 'publisher', 'relations', 'rights', 'series',\n",
       "       'shortTitle', 'tags', 'title', 'url', 'version', 'volume', 'wtype',\n",
       "       'ISSN', 'issue', 'journalAbbreviation', 'publicationTitle',\n",
       "       'seriesText', 'seriesTitle', 'bookTitle', 'edition', 'numberOfVolumes',\n",
       "       'seriesNumber', 'numPages', 'note', 'parentItem', 'websiteTitle',\n",
       "       'websiteType', 'meetingName', 'presentationType', 'charset',\n",
       "       'contentType', 'linkMode'],\n",
       "      dtype='object')"
      ]
     },
     "execution_count": 92,
     "metadata": {},
     "output_type": "execute_result"
    }
   ],
   "source": [
    "df.columns"
   ]
  },
  {
   "cell_type": "code",
   "execution_count": 93,
   "metadata": {},
   "outputs": [
    {
     "data": {
      "text/plain": [
       "[2009, 2010, 2011, 2012, 2013, 2014, 2015, 2016, 2017, 2018, 2019]"
      ]
     },
     "execution_count": 93,
     "metadata": {},
     "output_type": "execute_result"
    }
   ],
   "source": [
    "list(range(2009,2020, 1))"
   ]
  },
  {
   "cell_type": "markdown",
   "metadata": {},
   "source": [
    "# Number of papers per year"
   ]
  },
  {
   "cell_type": "code",
   "execution_count": 94,
   "metadata": {},
   "outputs": [
    {
     "data": {
      "image/png": "[encoded data removed]",
      "text/plain": [
       "<Figure size 1440x720 with 1 Axes>"
      ]
     },
     "metadata": {
      "needs_background": "light"
     },
     "output_type": "display_data"
    }
   ],
   "source": [
    "plt.figure(figsize=(20,10))\n",
    "ax = sns.countplot(x=\"wtype\", data=df, order=['2004-2009','2010', '2011', '2012', '2013', '2014', \n",
    "                                              '2015', '2016', '2017', '2018', '2019', '2020'], palette='Blues')"
   ]
  },
  {
   "cell_type": "markdown",
   "metadata": {},
   "source": [
    "# Parse data from crossref using DOI\n"
   ]
  },
  {
   "cell_type": "code",
   "execution_count": null,
   "metadata": {},
   "outputs": [],
   "source": [
    "cr_df = pd.DataFrame()\n",
    "for p in range(len(df)): \n",
    "    \n",
    "\n",
    "    if(df.at[p,'DOI'] !='' and df.at[p,'DOI'] !='nan'):\n",
    "        try:\n",
    "            jsdata = cr.works(ids=[df.at[p,'DOI']])\n",
    "        except:\n",
    "            print(df.at[p,'title'], df.at[p,'DOI'])\n",
    "            print(\"Query failed\")\n",
    "            r = dict(df.loc[p])\n",
    "            cr_df = cr_df.append(r, ignore_index = True)\n",
    "            continue\n",
    "        \n",
    "        if (jsdata['status'] == 'ok'):\n",
    "            r = dict(df.loc[p])\n",
    "            r.update(jsdata['message'])\n",
    "            \n",
    "            r['citation_count'] =  hb.counts.citation_count(doi =df.at[p,'DOI'])\n",
    "            cr_df = cr_df.append(r, ignore_index = True)\n",
    "\n",
    "        \n",
    "        \n",
    "    else:\n",
    "        print(df.loc[p])"
   ]
  },
  {
   "cell_type": "code",
   "execution_count": null,
   "metadata": {},
   "outputs": [],
   "source": [
    "cr_df"
   ]
  },
  {
   "cell_type": "code",
   "execution_count": null,
   "metadata": {},
   "outputs": [],
   "source": [
    "cr_df.drop(['rights','accessDate','archive','archiveLocation','callNumber','charset','content-domain'\n",
    "            ,'contentType', 'dateAdded','dateModified','edition','funder','language','linkMode',\n",
    "           'meetingName','note','numberOfVolumes','original-title','presentationType',\n",
    "           'score','seriesNumber','seriesText','seriesTitle','short-title'], axis=1)"
   ]
  },
  {
   "cell_type": "code",
   "execution_count": null,
   "metadata": {},
   "outputs": [],
   "source": [
    "cr_df.to_csv('CrossRef_DataFrame.csv', index=False)"
   ]
  },
  {
   "cell_type": "markdown",
   "metadata": {},
   "source": [
    "# Number of citation per publication year"
   ]
  },
  {
   "cell_type": "code",
   "execution_count": 63,
   "metadata": {},
   "outputs": [
    {
     "data": {
      "image/png": "[encoded data removed]",
      "text/plain": [
       "<Figure size 1440x720 with 1 Axes>"
      ]
     },
     "metadata": {
      "needs_background": "light"
     },
     "output_type": "display_data"
    }
   ],
   "source": [
    "plt.figure(figsize=(20,10))\n",
    "ax = sns.barplot(x=\"wtype\",y='is-referenced-by-count', data=cr_df, order=['2004-2009','2010', '2011', '2012', '2013', '2014', \n",
    "                                              '2015', '2016', '2017', '2018', '2019', '2020'], palette='Blues')"
   ]
  },
  {
   "cell_type": "code",
   "execution_count": 18,
   "metadata": {},
   "outputs": [],
   "source": [
    "# Publcation venue"
   ]
  },
  {
   "cell_type": "code",
   "execution_count": 85,
   "metadata": {},
   "outputs": [
    {
     "data": {
      "text/plain": [
       "Index(['DOI', 'ISBN', 'ISSN', 'URL', 'abstractNote', 'accessDate',\n",
       "       'alternative-id', 'archive', 'archiveLocation', 'author', 'bookTitle',\n",
       "       'callNumber', 'charset', 'citation_count', 'collections',\n",
       "       'conferenceName', 'container-title', 'content-domain', 'contentType',\n",
       "       'created', 'creators', 'date', 'dateAdded', 'dateModified', 'deposited',\n",
       "       'edition', 'event', 'extra', 'funder', 'indexed',\n",
       "       'is-referenced-by-count', 'isbn-type', 'issue', 'issued', 'itemType',\n",
       "       'journalAbbreviation', 'key', 'language', 'libraryCatalog', 'linkMode',\n",
       "       'meetingName', 'member', 'note', 'numberOfVolumes', 'original-title',\n",
       "       'pages', 'parentItem', 'place', 'prefix', 'presentationType',\n",
       "       'proceedingsTitle', 'publicationTitle', 'published-online',\n",
       "       'published-print', 'publisher', 'publisher-location', 'reference',\n",
       "       'reference-count', 'references-count', 'relation', 'relations',\n",
       "       'rights', 'score', 'series', 'seriesNumber', 'seriesText',\n",
       "       'seriesTitle', 'short-container-title', 'short-title', 'shortTitle',\n",
       "       'source', 'subtitle', 'tags', 'title', 'type', 'url', 'version',\n",
       "       'volume', 'websiteTitle', 'websiteType', 'wtype', 'abstract',\n",
       "       'issn-type', 'journal-issue', 'link', 'page', 'subject', 'assertion',\n",
       "       'update-policy', 'license', 'article-number'],\n",
       "      dtype='object')"
      ]
     },
     "execution_count": 85,
     "metadata": {},
     "output_type": "execute_result"
    }
   ],
   "source": [
    "cr_df.columns"
   ]
  },
  {
   "cell_type": "code",
   "execution_count": 86,
   "metadata": {},
   "outputs": [
    {
     "data": {
      "text/plain": [
       "array([nan, '3V65JG78', '9HCNUD9A'], dtype=object)"
      ]
     },
     "execution_count": 86,
     "metadata": {},
     "output_type": "execute_result"
    }
   ],
   "source": [
    "cr_df['parentItem'].unique()"
   ]
  },
  {
   "cell_type": "code",
   "execution_count": null,
   "metadata": {},
   "outputs": [],
   "source": [
    "plt.figure(figsize=(20,10))\n",
    "ax = sns.barplot(x=\"wtype\",y='citation_count', data=cr_df, order=['2004-2009','2010', '2011', '2012', '2013', '2014', \n",
    "                                              '2015', '2016', '2017', '2018', '2019', '2020'], palette='Blues')"
   ]
  }
 ],
 "metadata": {
  "kernelspec": {
   "display_name": "Python 3",
   "language": "python",
   "name": "python3"
  },
  "language_info": {
   "codemirror_mode": {
    "name": "ipython",
    "version": 3
   },
   "file_extension": ".py",
   "mimetype": "text/x-python",
   "name": "python",
   "nbconvert_exporter": "python",
   "pygments_lexer": "ipython3",
   "version": "3.7.6"
  }
 },
 "nbformat": 4,
 "nbformat_minor": 4
}
